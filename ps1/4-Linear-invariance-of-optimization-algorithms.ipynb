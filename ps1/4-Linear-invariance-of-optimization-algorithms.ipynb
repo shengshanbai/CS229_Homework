{
 "cells": [
  {
   "cell_type": "markdown",
   "metadata": {},
   "source": [
    "# (a)"
   ]
  },
  {
   "cell_type": "markdown",
   "metadata": {},
   "source": [
    "这里采用递归证明方法，首先已知$z^{(0)}=\\vec{0}=A^{-1}x^{(0)}$,然后对于任一$z^{(i)}=A^{-1}x^{(i)}$,根据牛顿方法可知："
   ]
  },
  {
   "cell_type": "markdown",
   "metadata": {},
   "source": [
    "\\begin{align*}\n",
    "x^{(i+1)}=x^{(i)}-\\frac{f(x^{(i)})}{f'(x^{(i)})}\n",
    "\\end{align*}"
   ]
  },
  {
   "cell_type": "markdown",
   "metadata": {},
   "source": [
    "\\begin{align*}\n",
    "z^{(i+1)}&=z^{(i)}-\\frac{g(z^{(i)})}{g'(z^{(i)})} \\\\\n",
    "&=z^{(i)}-\\frac{f(Az^{(i)})}{\\frac{\\partial f(Az^{(i)})}{\\partial Az^{(i)}}\\frac{\\partial Az^{(i)}}{\\partial z^{(i)}}} \\\\\n",
    "&=A^{-1}x^{(i)}-\\frac{f(x^{(i)})}{Af'(x^{(i)})} \\\\\n",
    "&=A^{-1}x^{(i+1)}\n",
    "\\end{align*}"
   ]
  },
  {
   "cell_type": "markdown",
   "metadata": {},
   "source": [
    "# (b)"
   ]
  },
  {
   "cell_type": "markdown",
   "metadata": {},
   "source": [
    "由上面的证明，可以猜测梯度下降方法也是对参数的线性变化不变的，假设学习率是$a$,那么:\n"
   ]
  },
  {
   "cell_type": "markdown",
   "metadata": {},
   "source": [
    "\\begin{align*}\n",
    "x^{(i+1)}=x^{(i)}-af'(x^{(i)})\n",
    "\\end{align*}"
   ]
  },
  {
   "cell_type": "markdown",
   "metadata": {},
   "source": [
    "\\begin{align*}\n",
    "z^{(i+1)}&=z^{(i)}-ag'(z^{(i)}) \\\\\n",
    "&=z^{(i)}-a\\frac{\\partial f(Az^{(i)})}{\\partial Az^{(i)}}\\frac{\\partial Az^{(i)}}{\\partial z^{(i)}} \\\\\n",
    "&=A^{-1}x^{(i)}-aAf'(x^{(i)}) \\\\\n",
    "&=A^{-1}x^{(i)}-Ax^{(i)}+Ax^{(i+1)}\n",
    "\\end{align*}"
   ]
  },
  {
   "cell_type": "markdown",
   "metadata": {},
   "source": [
    "那么，这个结果是不成立的，也就是说梯度下降算法不满足这个参数线性变换的不变性。"
   ]
  },
  {
   "cell_type": "code",
   "execution_count": null,
   "metadata": {
    "collapsed": true
   },
   "outputs": [],
   "source": []
  }
 ],
 "metadata": {
  "kernelspec": {
   "display_name": "Python 3",
   "language": "python",
   "name": "python3"
  }
 },
 "nbformat": 4,
 "nbformat_minor": 2
}
