{
 "cells": [
  {
   "cell_type": "markdown",
   "metadata": {},
   "source": [
    "# (a)"
   ]
  },
  {
   "cell_type": "markdown",
   "metadata": {},
   "source": [
    "指数簇函数的定义为:$p(y;\\eta)=b(y)exp(\\eta^TT(y)-a(\\eta))$，那么对于泊松分布:\n",
    "\\begin{align*}\n",
    "p(y;\\lambda)&=\\frac{e^{-\\lambda}\\lambda^y}{y!} \\\\\n",
    "&=\\frac{1}{y!}*(e^{-\\lambda}e^{log\\lambda^y}) \\\\\n",
    "&=\\frac{1}{y!}*e^{ylog\\lambda-\\lambda}\n",
    "\\end{align*}"
   ]
  },
  {
   "cell_type": "markdown",
   "metadata": {},
   "source": [
    "通过对比可知：\n",
    "\\begin{align*}\n",
    "b(y)=\\frac{1}{y!} \\\\\n",
    "\\eta^T=log\\lambda \\\\\n",
    "T(y)=y \\\\\n",
    "a(\\eta)=\\lambda \n",
    "=e^{\\eta^T}\n",
    "\\end{align*}"
   ]
  },
  {
   "cell_type": "markdown",
   "metadata": {},
   "source": [
    "# (b)"
   ]
  },
  {
   "cell_type": "markdown",
   "metadata": {},
   "source": [
    "对于泊松分布，我们的假设函数:\n",
    "\\begin{align*}\n",
    "h(x)&=E[p(y;\\eta)] \\\\\n",
    "&=\\lambda \\\\\n",
    "&=e^{\\eta^T} \\\\\n",
    "&=e^{\\theta^Tx}\n",
    "\\end{align*}"
   ]
  },
  {
   "cell_type": "markdown",
   "metadata": {},
   "source": [
    "# (c)"
   ]
  },
  {
   "cell_type": "markdown",
   "metadata": {},
   "source": [
    "对于泊松分布，概率的$log$函数做简化:\n",
    "\\begin{align*}\n",
    "logp(y;\\lambda) &= log(\\frac{e^{-\\lambda}\\lambda^y}{y!}) \\\\\n",
    "&=-\\lambda+ylog\\lambda-logy! \n",
    "\\end{align*}\n",
    "因为$\\lambda=e^{\\theta^Tx}$,所以对于单个样本$\\{x^{i},y^i\\}$\n",
    "\\begin{align*}\n",
    "\\frac{\\partial log p(y^i|x^i;\\theta)}{\\partial \\theta_j}&=-\\frac{\\partial e^{\\theta^Tx^i}}{\\partial \\theta_j}+y^i\\frac{\\partial log{e^{\\theta^Tx^i}}}{\\partial \\theta_j} \\\\\n",
    "&=-e^{\\theta^Tx^i}x^i_j+y^ix^i_j\n",
    "\\end{align*}"
   ]
  },
  {
   "cell_type": "markdown",
   "metadata": {},
   "source": [
    "由上面的$\\theta$的导数公式，带入$h(x)$公式，就可以得到：$\\theta_i := \\theta_i-a(h(x)-y)x_i$"
   ]
  },
  {
   "cell_type": "markdown",
   "metadata": {},
   "source": [
    "# (d)"
   ]
  },
  {
   "cell_type": "markdown",
   "metadata": {},
   "source": [
    "对于GLM，当$T(y)=y$时:\n",
    "\\begin{align*}\n",
    "p(y;\\eta)=b(y)exp(\\eta^Ty-a(\\eta))\n",
    "\\end{align*}\n",
    "所以log似然函数:\n",
    "\\begin{align*}\n",
    "logp(y;\\eta)&=log(b(y)exp(\\eta^Ty-a(eta))) \\\\\n",
    "&=logb(y)+\\eta^Ty-a(\\eta)\n",
    "\\end{align*}\n",
    "对它求导:\n",
    "\\begin{align*}\n",
    "\\frac{\\partial logp(y;\\eta)}{\\partial \\theta_j} &=\\frac{\\partial \\eta^T}{\\partial \\theta_j}y-\\frac{\\partial a(\\eta)}{\\partial \\eta}*\\frac{\\partial \\eta}{\\partial \\theta_j} \\\\\n",
    "&=x_jy-\\frac{\\partial a(\\eta)}{\\partial \\eta}*x_j \\\\\n",
    "&=(y-\\frac{\\partial a(\\eta)}{\\partial \\eta})*x_j\n",
    "\\end{align*}\n",
    "在这里我们需要求出$\\frac{\\partial a(\\eta)}{\\partial \\eta}$,根据概率密度函数的特性可知:\n",
    "\\begin{align*}\n",
    "\\int_yp(y;\\eta)d_y=1\n",
    "\\end{align*}\n",
    "同时对$\\eta$求导:\n",
    "\\begin{align*}\n",
    "\\frac{d}{d_\\eta}\\int_yp(y;\\eta)d_y=0\n",
    "\\end{align*}\n",
    "那么:\n",
    "\\begin{align*}\n",
    "\\int_y\\frac{d}{d_\\eta}p(y;\\eta)d_y=0\n",
    "\\end{align*}\n",
    "将$p(y;\\eta)$的定义带入有：\n",
    "\\begin{align*}\n",
    "\\int_y\\frac{d}{d_\\eta}(b(y)exp(\\eta^Ty-a(\\eta)))d_y &=0 \\\\\n",
    "\\int_yb(y)exp(\\eta^Ty-a(\\eta))(y-\\frac{da(\\eta)}{d_\\eta})d_y &=0 \\\\\n",
    "\\int_yp(y;\\eta)yd_y-\\int_yp(y;\\eta)\\frac{da(\\eta)}{d_\\eta}d_y &=0 \\\\\n",
    "h(x)-\\frac{da(\\eta)}{d_\\eta}=0\n",
    "\\end{align*}\n",
    "所以$\\frac{da(\\eta)}{d_\\eta}=h(x)$,那么似然函数的导数是$(y-h(x))*x_j$,所以梯度更新的规则是:\n",
    "\\begin{align*}\n",
    "\\theta_j:&=\\theta_j+a(y-h(x))*x_j \\\\\n",
    ":&=\\theta_j-a(h(x)-y)*x_j\n",
    "\\end{align*}"
   ]
  },
  {
   "cell_type": "code",
   "execution_count": null,
   "metadata": {},
   "outputs": [],
   "source": []
  }
 ],
 "metadata": {
  "kernelspec": {
   "display_name": "Python 3",
   "language": "python",
   "name": "python3"
  }
 },
 "nbformat": 4,
 "nbformat_minor": 2
}
