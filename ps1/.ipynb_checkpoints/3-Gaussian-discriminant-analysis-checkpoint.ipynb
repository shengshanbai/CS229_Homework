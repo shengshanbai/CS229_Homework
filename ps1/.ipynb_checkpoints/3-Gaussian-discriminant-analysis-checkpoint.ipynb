{
 "cells": [
  {
   "cell_type": "markdown",
   "metadata": {},
   "source": [
    "# (a)"
   ]
  },
  {
   "cell_type": "markdown",
   "metadata": {},
   "source": [
    "为了方便表示，我们将概率:\n",
    "\\begin{align*}\n",
    "p(x|y=-1)=Ce^A \\\\\n",
    "p(x|y=1)=Ce^B\n",
    "\\end{align*}\n",
    "其中:\n",
    "\\begin{align*}\n",
    "C=\\frac{1}{(2\\pi)^{\\frac{n}{2}}|\\Sigma|^{\\frac{1}{2}}} \\\\\n",
    "A=-\\frac{1}{2}(x-u_{-1})^T\\Sigma^{-1}(x-u_{-1}) \\\\\n",
    "B=-\\frac{1}{2}(x-u_1)^T\\Sigma^{-1}(x-u_1)\n",
    "\\end{align*}\n",
    "那么当y=1时概率:\n",
    "\\begin{align*}\n",
    "p(y=1|x)&=\\frac{p(x|y=1)p(y=1)}{p(x)} \\\\\n",
    "&=\\frac{p(x|y=1)p(y=1)}{p(x|y=1)p(y=1)+p(x|y=-1)p(y=-1)} \\\\\n",
    "&=\\frac{Ce^B*\\phi}{Ce^B*\\phi+Ce^A*(1-\\phi)} \\\\\n",
    "&=\\frac{1}{1+\\frac{1-\\phi}{\\phi}e^{A-B}} \\\\\n",
    "&=\\frac{1}{1+e^{A-B+ln(1-\\phi)-ln\\phi}} \\\\\n",
    "&=\\frac{1}{1+e^{-1(B-A+ln\\phi-ln(1-\\phi))}} \\\\\n",
    "&=\\frac{1}{1+e^{-y(B-A+ln\\phi-ln(1-\\phi))}}\n",
    "\\end{align*}\n",
    "当y=-1时概率:\n",
    "\\begin{align*}\n",
    "p(y=-1|x)&=\\frac{p(x|y=-1)p(y=-1)}{p(x|y=1)p(y=1)+p(x|y=-1)p(y=-1)} \\\\\n",
    "&=\\frac{Ce^A*(1-\\phi)}{Ce^B*\\phi+Ce^A*(1-\\phi)} \\\\\n",
    "&=\\frac{1}{1+\\frac{\\phi}{1-\\phi}e^(B-A)} \\\\\n",
    "&=\\frac{1}{1+e^{B-A+ln\\phi-ln(1-\\phi)}} \\\\\n",
    "&=\\frac{1}{1+e^{-y(B-A+ln\\phi-ln(1-\\phi))}}\n",
    "\\end{align*}\n",
    "所以:\n",
    "\\begin{align*}\n",
    "p(y|x)=\\frac{1}{1+exp^{(-y(\\theta^Tx+\\theta_0))}},\\\\\n",
    "\\theta^Tx+\\theta_0=B-A+ln\\phi-ln(1-\\phi)\n",
    "\\end{align*}"
   ]
  },
  {
   "cell_type": "markdown",
   "metadata": {},
   "source": [
    "# (b)"
   ]
  },
  {
   "cell_type": "markdown",
   "metadata": {},
   "source": [
    " 似然函数:\n",
    " \\begin{align*}\n",
    " l(\\phi,u_{-1},u_{1},\\Sigma)&=log\\Pi_{i=1}^{m}p(x^i|y^i;u_{-1},u_{1},\\Sigma)p(y^i,\\phi) \\\\\n",
    " &=\\sum_{i=1}^{m}(logp(x^i|y^i;u_{-1},u_{1},\\Sigma)+logp(y^i,\\phi))\n",
    " \\end{align*}\n",
    " 假设训练数据中，有J个$y=1$的样本，有K个$y=-1$的样本,$J+K=m$，那么似然函数为:\n",
    "  \\begin{align*}\n",
    " l(\\phi,u_{-1},u_{1},\\Sigma)&=\\sum_{j=1}^{J}(logp(x^j|y^j;u_{1},\\Sigma)+logp(y^j,\\phi))+\\sum_{k=1}^{K}(logp(x^k|y^k;u_{-1},\\Sigma)+logp(y^k,\\phi)) \\\\\n",
    " &=\\sum_{j=1}^{J}(log\\frac{1}{(2\\pi)^{n/2}|\\Sigma|^{1/2}}e^{-\\frac{1}{2}(x^j-u_1)^T\\Sigma^{-1}(x^j-u_1)}+log\\phi)+\\sum_{k=1}^{K}(log\\frac{1}{(2\\pi)^{n/2}|\\Sigma|^{1/2}}e^{-\\frac{1}{2}(x^k-u_{-1})^T\\Sigma^{-1}(x^k-u_{-1})}+log(1-\\phi)) \\\\\n",
    " &=J(-log(\\sqrt{2\\pi}\\sigma))+\\sum_{j=1}^{J}(-\\frac{(x^j-u_1)^2}{2\\sigma^2})+Jlog\\phi+K(-log(\\sqrt{2\\pi}\\sigma))+\\sum_{k=1}^{K}(-\\frac{(x^k-u_{-1})^2}{2\\sigma^2})+Klog(1-\\phi)\\\\\n",
    " &=-mlog(\\sqrt{2\\pi}\\sigma)+\\sum_{j=1}^{J}(-\\frac{(x^j-u_1)^2}{2\\sigma^2})+\\sum_{k=1}^{K}(-\\frac{(x^k-u_{-1})^2}{2\\sigma^2})+Jlog\\phi+Klog(1-\\phi)\n",
    "\\end{align*}"
   ]
  },
  {
   "cell_type": "markdown",
   "metadata": {},
   "source": [
    "首先求$\\frac{\\partial l(\\phi,u_{-1},u_{1},\\sigma)}{\\partial \\phi}$:\n",
    "\\begin{align*}\n",
    "\\frac{\\partial l(\\phi,u_{-1},u_{1},\\sigma)}{\\partial \\phi}&=J\\frac{\\partial log\\phi}{\\partial \\phi}+K\\frac{\\partial log(1-\\phi)}{\\partial \\phi} \\\\\n",
    "&=J\\frac{1}{\\phi}+K(\\frac{1}{\\phi-1}) \\\\\n",
    "&=\\frac{J(\\phi-1)+K\\phi}{\\phi(\\phi-1)} \\\\\n",
    "&=\\frac{m\\phi-J}{\\phi(\\phi-1)}\n",
    "\\end{align*}"
   ]
  },
  {
   "cell_type": "markdown",
   "metadata": {},
   "source": [
    "要使得似然函数取得极致，那么$\\frac{\\partial l(\\phi,u_{-1},u_{1},\\sigma)}{\\partial \\phi}=0$,又因为$0<\\phi<1$,那么:\n",
    "\\begin{align*}\n",
    "m\\phi-J&=0 \\\\\n",
    "\\phi&=J/m \\\\\n",
    "&=\\frac{1}{m}\\sum_{i=1}^{m}1\\{y^i=1\\}\n",
    "\\end{align*}"
   ]
  },
  {
   "cell_type": "markdown",
   "metadata": {},
   "source": [
    "同样，对于$u_{-1}$:\n",
    "\\begin{align*}\n",
    "\\frac{\\partial l(\\phi,u_{-1},u_{1},\\sigma)}{\\partial u_{-1}}&=\\frac{\\partial \\sum_{k=1}^{K}(-\\frac{(x^k-u_{-1})^2}{2\\sigma^2})}{\\partial u_{-1}} \\\\\n",
    "&=\\frac{1}{\\sigma^2}\\sum_{k=1}^{K}(x^k-u_{-1}) \\\\\n",
    "&=\\frac{1}{\\sigma^2}\\sum_{k=1}^{K}x^k-K\\frac{1}{\\sigma^2}u_{-1}\n",
    "\\end{align*}"
   ]
  },
  {
   "cell_type": "markdown",
   "metadata": {},
   "source": [
    "同样令$\\frac{\\partial l(\\phi,u_{-1},u_{1},\\sigma)}{\\partial u_{-1}}=0$,可得:\n",
    "\\begin{align*}\n",
    "u_{-1}&=\\frac{\\sum_{k=1}^{K}x^k}{K} \\\\\n",
    "&=\\frac{\\sum_{i=1}^{m}1\\{y^i=-1\\}x^i}{\\sum_{i=1}^{m}1\\{y^i=-1\\}}\n",
    "\\end{align*}"
   ]
  },
  {
   "cell_type": "markdown",
   "metadata": {},
   "source": [
    "对于$u_1$，情况和$u_{-1}$,完全类似，所以$u_1=\\frac{\\sum_{i=1}^{m} 1\\{y^i=1\\}x^i}{\\sum_{i=1}^{m} 1\\{y^i=1\\}}$"
   ]
  },
  {
   "cell_type": "markdown",
   "metadata": {},
   "source": [
    "然后，对于$\\sigma$，偏导如下：\n",
    "\\begin{align*}\n",
    "\\frac{\\partial l(\\phi,u_{-1},u_{1},\\sigma)}{\\partial \\sigma}&=-m\\frac{\\partial log\\sqrt{2\\pi}\\sigma}{\\partial \\sigma}+\\sum_{j=1}^{J}\\frac{\\partial -\\frac{(x^j-u_1)^2}{2\\sigma^2}}{\\partial \\sigma}+\\sum_{k=1}^{K}\\frac{-\\frac{\\partial (x^k-u_{-1})^2}{2\\sigma^2}}{\\partial \\sigma} \\\\\n",
    "&=-\\frac{m}{\\sigma}+\\sum_{j=1}^{J}\\frac{(x^j-u_1)^2}{\\sigma^3}+\\sum_{k=1}^{K}\\frac{(x^k-u_{-1})^2}{\\sigma^3} \\\\\n",
    "\\end{align*}"
   ]
  },
  {
   "cell_type": "markdown",
   "metadata": {},
   "source": [
    "要求似然函数的极值，令偏导函数等于0，那么:\n",
    "\\begin{align*}\n",
    "-\\frac{m}{\\sigma}+\\sum_{j=1}^{J}\\frac{(x^j-u_1)^2}{\\sigma^3}+\\sum_{k=1}^{K}\\frac{(x^k-u_{-1})^2}{\\sigma^3} =0 \\\\\n",
    "m\\sigma^2 =\\sum_{j=1}^{J}(x^j-u_1)^2+\\sum_{k=1}^{K}(x^k-u_{-1})^2 \\\\\n",
    "m\\sigma^2=\\sum_{i=1}^{m}(x^i-u_{y^i}) \\\\\n",
    "\\sigma^2=\\frac{1}{m}\\sum_{i=1}^{m}(x^i-u_{y^i})(x^i-u_{y^i})^T\n",
    "\\end{align*}"
   ]
  },
  {
   "cell_type": "markdown",
   "metadata": {},
   "source": [
    "# (c)"
   ]
  },
  {
   "cell_type": "markdown",
   "metadata": {},
   "source": [
    "对于$\\phi$的取值，与之前的结果相同。然后，对于$u_1$,我们需要先解决一个通用问题$\\nabla_x x^TAx$,其中$A$是对称矩阵，首先，我们知道，对于向量$b$,$\\nabla_x b^Tx=b$。首先，我们来展开这个函数:\n",
    "\\begin{align*}\n",
    "x^TAx&=x^T\\begin{bmatrix}\n",
    "R_1x \\\\\n",
    "R_2x \\\\\n",
    "\\cdots \\\\\n",
    "R_nx\n",
    "\\end{bmatrix}\\\\\n",
    "&=x^T\\begin{bmatrix}\n",
    "\\sum_{j=1}^{n}A_{1j}x_j \\\\\n",
    "\\sum_{j=1}^{n}A_{2j}x_j \\\\\n",
    "\\cdots \\\\\n",
    "\\sum_{j=1}^{n}A_{nj}x_j\n",
    "\\end{bmatrix}\\\\\n",
    "&=x_1*\\sum_{j=1}^{n}A_{1j}x_j+x_2*\\sum_{j=1}^{n}A_{2j}x_j+\\cdots+\\sum_{j=1}^{n}A_{nj}x_j \\\\\n",
    "&=\\sum_{i=1}^{n}\\sum_{j=1}^{n}x_iA_{ij}x_j\n",
    "\\end{align*}"
   ]
  },
  {
   "cell_type": "markdown",
   "metadata": {},
   "source": [
    "现在计算它对$x$的导数向量，对于向量中位置$k$的项$x_k$,有:\n",
    "\\begin{align*}\n",
    "\\frac{\\partial \\sum_{i=1}^{n}\\sum_{j=1}^{n}x_iA_{ij}x_j}{\\partial x_k}&=\\sum_{j \\neq k}^{n}A_{kj}x_j+\\sum_{i \\neq k}^{n}A_{ik}x_i+2A_{kk}x_k \\\\\n",
    "&=\\sum_{j \\neq k}^{n}A_{kj}x_j+\\sum_{j \\neq k}^{n}A_{jk}x_j+2A_{kk}x_k \\\\\n",
    "&=2\\sum_{j \\neq k}^{n}A_{kj}x_j+2A_{kk}x_k \\\\\n",
    "&=2\\sum_{j=1}^{n}A_{kj}x_j \\\\\n",
    "&=2R_kx\n",
    "\\end{align*}"
   ]
  },
  {
   "cell_type": "markdown",
   "metadata": {},
   "source": [
    "当$n!=1$时，$\\Sigma$是协方差矩阵，之前的似然函数变为:\n",
    "\\begin{align*}\n",
    "l(\\phi,u_{-1},u_{1},\\Sigma)&=-mlog((2\\pi)^{n/2}|\\Sigma|^{1/2})+\\sum_{j=1}^{J}(-\\frac{1}{2}(x^j-u_1)^T\\Sigma^{-1}(x^j-u_1))+\\sum_{k=1}^{K}(-\\frac{1}{2}(x^k-u_{-1})^T\\Sigma^{-1}(x^k-u_{-1}))+Jlog\\phi+Klog(1-\\phi) \\\\\n",
    "&=-\\frac{mn}{2}log2\\pi-\\frac{m}{2}log|\\Sigma|+\\sum_{j=1}^{J}(-\\frac{1}{2}(x^j-u_1)^T\\Sigma^{-1}(x^j-u_1))+\\sum_{k=1}^{K}(-\\frac{1}{2}(x^k-u_{-1})^T\\Sigma^{-1}(x^k-u_{-1}))+Jlog\\phi+Klog(1-\\phi)\n",
    "\\end{align*}"
   ]
  },
  {
   "cell_type": "markdown",
   "metadata": {},
   "source": [
    "那么对所有的值k，求出导数向量:\n",
    "\\begin{align*}\n",
    "\\nabla_x(x^TAx)=2*\\begin{bmatrix}\n",
    "R_1x \\\\\n",
    "R_2x \\\\\n",
    "\\cdots \\\\\n",
    "R_nx\n",
    "\\end{bmatrix}\n",
    "=2Ax\n",
    "\\end{align*}"
   ]
  },
  {
   "cell_type": "markdown",
   "metadata": {},
   "source": [
    "那么，在这里求似然函数对$u_1$的偏导:\n",
    "\\begin{align*}\n",
    "\\frac{\\partial l(\\phi,u_{-1},u_{1},\\Sigma)}{\\partial u_1} &=\\frac{\\partial \\sum_{j=1}^{J}(-\\frac{1}{2}(x^j-u_1)^T\\Sigma^{-1}(x^j-u_1))}{\\partial u_1} \\\\\n",
    "&=\\sum_{j=1}^{J}(\\Sigma^{-1}(x^j-u_1))\n",
    "\\end{align*}"
   ]
  },
  {
   "cell_type": "markdown",
   "metadata": {},
   "source": [
    "令$\\frac{\\partial l(\\phi,u_{-1},u_{1},\\Sigma)}{\\partial u_1}=0$,因为$\\Sigma^{-1}\\neq 0$,那么:\n",
    "\\begin{align*}\n",
    "\\sum_{j=1}^{J}(x^j-u_1)=0 \\\\\n",
    "\\sum_{j=1}^{J}x^j-Ju_1=0 \\\\\n",
    "u_1=\\frac{\\sum_{j=1}^{J}x^j}{J} \\\\\n",
    "u_1=\\frac{\\sum_{i=1}^{m} 1\\{y^i=1\\}x^i}{\\sum_{i=1}^{m} 1\\{y^i=1\\}}\n",
    "\\end{align*}"
   ]
  },
  {
   "cell_type": "markdown",
   "metadata": {},
   "source": [
    "对于$u_{-1}$采用类似方法,可得到(b)中相同的结果。"
   ]
  },
  {
   "cell_type": "markdown",
   "metadata": {},
   "source": [
    "接下来，我们要求$\\frac{\\partial l(\\phi,u_{-1},u_{1},\\Sigma)}{\\partial \\Sigma}$,在这之前，我们对任一矩阵$A$计算:\n",
    "\\begin{align*}\n",
    "\\nabla_{A_{kl}}(|A|) &=\\frac{\\partial |A|}{\\partial A_{kl}} \\\\\n",
    "&=\\frac{\\partial \\sum_{j=1}^{n}(-1)^{i+j}A_{ij}|A_{\\backslash i,\\backslash j}|}{\\partial A_{kl}}\n",
    "\\end{align*}"
   ]
  },
  {
   "cell_type": "code",
   "execution_count": null,
   "metadata": {},
   "outputs": [],
   "source": []
  }
 ],
 "metadata": {
  "kernelspec": {
   "display_name": "Python 3",
   "language": "python",
   "name": "python3"
  }
 },
 "nbformat": 4,
 "nbformat_minor": 2
}
