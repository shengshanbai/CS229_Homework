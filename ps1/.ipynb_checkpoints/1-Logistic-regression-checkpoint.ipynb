{
 "cells": [
  {
   "cell_type": "markdown",
   "metadata": {},
   "source": [
    "http://cs229.stanford.edu/ps/ps1/ps1.pdf"
   ]
  },
  {
   "cell_type": "markdown",
   "metadata": {},
   "source": [
    "# (a)"
   ]
  },
  {
   "cell_type": "markdown",
   "metadata": {},
   "source": [
    "这里使用 $(k)$ 来表示训练样本的索引, 然后用$i$ 和$j$ 来表示Hession矩阵的行和列，假设 $x^{(k)}$ 是 $n$ 维向量.\n",
    "\n",
    "\\begin{align*}\n",
    "J(\\theta) &= \\frac{1}{m} \\sum_{k=1}^{m} \\mathrm{log}(1 + e ^{-y^{(k)} \\theta^T x^{(k)})} \\\\\n",
    "               &= - \\frac{1}{m} \\sum_{k=1}^{m} \\mathrm{log}(g(z^{(k)}))\n",
    "\\end{align*}\n",
    "\n",
    "这里的 $g(z^{(k)}) = \\frac{1}{1 + e^{-z^{(k)}}}$ ， $z^{(k)} = y^{(k)} \\theta^T x^{(k)}$。"
   ]
  },
  {
   "cell_type": "markdown",
   "metadata": {},
   "source": [
    "对$g(z)$求导，可得：\n",
    "\n",
    "\\begin{align*}\n",
    "\\frac{\\partial g}{\\partial z} =\\frac{\\partial \\frac{1}{1 + e^{-z}}}{\\partial z}  \n",
    "                              =\\frac{0 - 1 \\times \\frac{\\partial (1 + e^{-z})}{\\partial z}}{(1 + e^{-z})^2} \n",
    "                              =\\frac{e^{-z}}{(1 + e^{-z})^2} \n",
    "                              =\\frac{1}{1 + e^{-z}} \\cdot \\frac{e^{-z}}{1 + e^{-z}}\n",
    "                              =g(1 - g)\n",
    "\\end{align*}"
   ]
  },
  {
   "cell_type": "markdown",
   "metadata": {},
   "source": [
    "那么对代价函数求导\n",
    "\n",
    "\\begin{align*}\n",
    "\\frac{\\partial J}{\\partial \\theta_i} \n",
    " &= -\\frac{1}{m} \\sum_{k=1}^{m} \\frac{1}{g(z)} \\frac{\\partial g(z)}{\\partial z} \\frac{\\partial z(\\theta_i)}{\\partial \\theta_i}  \\\\\n",
    " &= -\\frac{1}{m} \\sum_{k=1}^{m} \\frac{1}{g(z)} g(z) (1 - g(z)) \\frac{\\partial z}{\\partial \\theta_i}  \\\\\n",
    " &= -\\frac{1}{m} \\sum_{k=1}^{m} (1 - g(z)) \\frac{\\partial z}{\\partial \\theta_i}  \\\\\n",
    " &= -\\frac{1}{m} \\sum_{k=1}^{m} (1 - g(z)) y^{(k)} x_i^{(k)}  \\\\\n",
    " &= \\frac{1}{m} \\sum_{k=1}^{m} (g(z) - 1) y^{(k)} x_i^{(k)}  \\\\\n",
    "\\end{align*}\n"
   ]
  },
  {
   "cell_type": "markdown",
   "metadata": {},
   "source": [
    "那么\n",
    "\n",
    "\\begin{align*}\n",
    "H_{ij} = \\frac{\\partial J}{\\partial \\theta_i \\partial \\theta_j} \n",
    "&= \\frac{1}{m} \\sum_{k=1}^{m} \\frac{\\partial (g(z)  - 1)}{\\partial \\theta_j} y^{(k)} x_i^{(k)} \\\\\n",
    "&= \\frac{1}{m} \\sum_{k=1}^{m} \\frac {\\partial g(z)}{\\partial \\theta_j} y^{(k)} x_i^{(k)} \\\\\n",
    "&= \\frac{1}{m} \\sum_{k=1}^{m} g(z)(1 - g(z)) \\frac{\\partial z}{\\partial \\theta_j} y^{(k)} x_i^{(k)} \\\\\n",
    "&= \\frac{1}{m} \\sum_{k=1}^{m} g(z)(1 - g(z)) y^{(k)} x_j^{(k)} y^{(k)} x_i^{(k)} \\\\\n",
    "&= \\frac{1}{m} \\sum_{k=1}^{m} g(z)(1 - g(z)) x_i^{(k)} x_j^{(k)} \\\\\n",
    "\\end{align*}"
   ]
  },
  {
   "cell_type": "markdown",
   "metadata": {},
   "source": [
    "最后,\n",
    "\n",
    "\\begin{align*}\n",
    "z^THz &= \\sum_{i=1}^{n} \\sum_{j=1}^{n} z_i H_{ij} z_j \\\\\n",
    "           &= \\sum_{i=1}^{n} \\sum_{j=1}^{n} [z_i \\frac{1}{m} \\sum_{k=1}^{m} g(z)(1 - g(z)) x_i^{(k)} x_j^{(k)}] z_j \\\\\n",
    "           &= \\frac{1}{m} \\sum_{k=1}^{m} g(z)(1 - g(z)) \\sum_{i=1}^{n} \\sum_{j=1}^{n} z_i x_i^{(k)} x_j^{(k)} z_j\n",
    "\\end{align*}"
   ]
  },
  {
   "cell_type": "markdown",
   "metadata": {},
   "source": [
    "因为 $1 > g(z) > 0$ ， $\\sum_{i=1}^{n} \\sum_{j=1}^{n} z_i x_i^{(k)} x_j^{(k)} z_j = ((x^{(k)})^T z)^2 \\ge 0$, \n",
    "\n",
    "所以对任意$z^T H z \\ge 0$, 因此$H$是半正定矩阵,$H \\succeq 0$. \n",
    "\n",
    "所以函数 $J$ 是凸函数，没有局部最小值."
   ]
  },
  {
   "cell_type": "markdown",
   "metadata": {
    "collapsed": true
   },
   "source": [
    "# (b) 使用牛顿方法求解逻辑回归"
   ]
  },
  {
   "cell_type": "markdown",
   "metadata": {},
   "source": [
    "初始化环境"
   ]
  },
  {
   "cell_type": "code",
   "execution_count": 2,
   "metadata": {},
   "outputs": [
    {
     "name": "stdout",
     "output_type": "stream",
     "text": [
      "The autoreload extension is already loaded. To reload it, use:\n",
      "  %reload_ext autoreload\n"
     ]
    }
   ],
   "source": [
    "%matplotlib inline\n",
    "\n",
    "import matplotlib\n",
    "import numpy as np\n",
    "import matplotlib.pyplot as plt\n",
    "\n",
    "%load_ext autoreload\n",
    "%autoreload 2\n",
    "%reload_ext autoreload"
   ]
  },
  {
   "cell_type": "markdown",
   "metadata": {},
   "source": [
    "根据牛顿方法的推导，$\\theta$的更新规则是$\\theta:=\\theta-H^{-1}\\nabla_{\\theta}l(\\theta)$"
   ]
  },
  {
   "cell_type": "code",
   "execution_count": 19,
   "metadata": {},
   "outputs": [
    {
     "name": "stdout",
     "output_type": "stream",
     "text": [
      "the final theta: [[-2.6205116 ]\n",
      " [ 0.76037154]\n",
      " [ 1.17194674]]\n"
     ]
    }
   ],
   "source": [
    "def addIntercept(X):\n",
    "    m,n=X.shape\n",
    "    interceptX=np.zeros((m,n+1))\n",
    "    interceptX[:,0]=1\n",
    "    interceptX[:,1:]=X\n",
    "    return interceptX\n",
    "\n",
    "def loadData():\n",
    "    X=np.loadtxt('logistic_x.txt')\n",
    "    Y=np.loadtxt('logistic_y.txt')\n",
    "    X=addIntercept(X)\n",
    "    return (X,Y)\n",
    "\n",
    "def endUpdate(pre_theta,theta):\n",
    "    if np.linalg.norm(pre_theta - theta) < 1e-15:\n",
    "        return True\n",
    "    return False\n",
    "\n",
    "def G(z):\n",
    "    out=1/(1+np.exp(-z))\n",
    "    return out\n",
    "\n",
    "def Hession(X,Y,theta):\n",
    "    m,n=X.shape\n",
    "    H=np.zeros((n,n))\n",
    "    for i in range(m):\n",
    "        z=np.dot(X[[i],:],theta)*Y[i]\n",
    "        gz=G(z)\n",
    "        H+=gz*(1-gz)*np.matmul(X[[i],:].T,X[[i],:])\n",
    "    H=H/m\n",
    "    return H\n",
    "\n",
    "def Jacobi(X,Y,theta):\n",
    "    m,n=X.shape\n",
    "    out=np.zeros((n,1))\n",
    "    for i in range(m):\n",
    "        z=np.dot(X[[i],:],theta)*Y[i]\n",
    "        gz=G(z)\n",
    "        out+=(gz-1)*Y[i]*X[[i],:].T\n",
    "    out=out/m\n",
    "    return out\n",
    "\n",
    "X,Y=loadData()\n",
    "m,n=X.shape\n",
    "theta=np.zeros((n,1))\n",
    "while True:\n",
    "    pre_theta=theta.copy()\n",
    "    theta-=np.matmul(np.linalg.inv(Hession(X,Y,theta)),Jacobi(X,Y,theta))\n",
    "    if(endUpdate(pre_theta,theta)):\n",
    "        print('the final theta:',theta)\n",
    "        break"
   ]
  },
  {
   "cell_type": "markdown",
   "metadata": {},
   "source": [
    "# (c) 画出数据图像"
   ]
  },
  {
   "cell_type": "code",
   "execution_count": 34,
   "metadata": {},
   "outputs": [
    {
     "data": {
      "image/png": "[encoded data removed]",
      "text/plain": [
       "<Figure size 432x288 with 1 Axes>"
      ]
     },
     "metadata": {},
     "output_type": "display_data"
    }
   ],
   "source": [
    "theta=np.array([[-2.6205116 ],\n",
    " [ 0.76037154],\n",
    " [ 1.17194674]])\n",
    "X,Y=loadData()\n",
    "plt.xlabel('x1')\n",
    "plt.ylabel('x2')\n",
    "\n",
    "positiveId=np.squeeze(np.where(Y==1))\n",
    "negativeId=np.squeeze(np.where(Y==-1))\n",
    "xPositive=X[positiveId,:]\n",
    "xNegative=X[negativeId,:]\n",
    "scatter1=plt.scatter(xPositive[:,1],xPositive[:,2],color = 'r')\n",
    "scatter2=plt.scatter(xNegative[:,1],xNegative[:,2],color = 'b')\n",
    "lineX=np.arange(0,9,0.1)\n",
    "lineY=-(theta[0]+theta[1]*lineX)/theta[2]\n",
    "plt.plot(lineX,lineY)\n",
    "plt.legend([scatter1,scatter2],['positive point','negative point'])\n",
    "plt.show()"
   ]
  },
  {
   "cell_type": "code",
   "execution_count": null,
   "metadata": {},
   "outputs": [],
   "source": []
  }
 ],
 "metadata": {
  "anaconda-cloud": {},
  "kernelspec": {
   "display_name": "Python 3",
   "language": "python",
   "name": "python3"
  },
  "language_info": {
   "codemirror_mode": {
    "name": "ipython",
    "version": 3
   },
   "file_extension": ".py",
   "mimetype": "text/x-python",
   "name": "python",
   "nbconvert_exporter": "python",
   "pygments_lexer": "ipython3",
   "version": "3.6.6"
  }
 },
 "nbformat": 4,
 "nbformat_minor": 1
}
